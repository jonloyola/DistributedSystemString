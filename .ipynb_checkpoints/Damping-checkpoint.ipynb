{
 "cells": [
  {
   "cell_type": "code",
   "execution_count": 9,
   "id": "58eb332b",
   "metadata": {},
   "outputs": [
    {
     "name": "stdout",
     "output_type": "stream",
     "text": [
      "[329.63, 659.26, 988.8899999999999, 1318.52]\n"
     ]
    }
   ],
   "source": [
    "import numpy as np\n",
    "import math\n",
    "from scipy import integrate\n",
    "d = 0.25/1000       #mm 2 m\n",
    "tau = 7.35*9.81     #kg 2 kgm/s^2\n",
    "L= 648/1000        #mm 2 m\n",
    "A = d**2*np.pi/4\n",
    "omega1 = 329.63*2*np.pi # Hz to rad/s\n",
    "rho = (np.pi/L)**2*tau/(A*omega1**2)\n",
    "c = (tau/(rho*A))**0.5\n",
    "y_listener = 1\n",
    "cSpeed = 343\n",
    "zeta = 0.01\n",
    "\n",
    "# Choose number of modes to include\n",
    "modeNum = 4\n",
    "\n",
    "# Modal Masses\n",
    "m_modalArray = []\n",
    "for i in range(modeNum):\n",
    "    m_modalArray.append(rho*A*L/2)\n",
    "    \n",
    "# Modal Frequencies\n",
    "wn_modalArray = []\n",
    "for n in range(1,modeNum+1):\n",
    "    wn_modalArray.append(c*np.pi*n/L)\n",
    "    \n",
    "print([wn/(2*np.pi) for wn in wn_modalArray])\n",
    "\n",
    "# Modal Stiffnesses\n",
    "k_modalArray = [m_m*w_m**2 for m_m,w_m in zip(m_modalArray,wn_modalArray)]\n",
    "\n",
    "# Modal Damping\n",
    "R_modalArray = [2*zeta*w_m*m_m for m_m,w_m in zip(m_modalArray,wn_modalArray)]\n",
    "\n",
    "# Mode Shapes\n",
    "Y = lambda n,x: np.sin(n*math.pi*x/L)\n",
    "\n",
    "p0_array = [0]*modeNum\n",
    "q0_array = [0]*modeNum\n",
    "x0 = p0_array + q0_array"
   ]
  },
  {
   "cell_type": "code",
   "execution_count": 11,
   "id": "9634cf6c",
   "metadata": {},
   "outputs": [
    {
     "name": "stdout",
     "output_type": "stream",
     "text": [
      "13186\n"
     ]
    }
   ],
   "source": [
    "# EOM and Simulation Setup\n",
    "tspan = [0,.2]\n",
    "\n",
    "# 10 times the frequncy we're expecting at least\n",
    "f_max = wn_modalArray[-1]/(2*np.pi)*10*5\n",
    "\n",
    "ntPoints = (tspan[1]-tspan[0])*f_max\n",
    "ntPoints = math.ceil(ntPoints)\n",
    "t = np.linspace(tspan[0],tspan[1],ntPoints)\n",
    "\n",
    "def eom(t,x):\n",
    "    p = x[0:modeNum]\n",
    "    q = x[modeNum:2*(modeNum)]\n",
    "    dp = []\n",
    "    dq = []\n",
    "    \n",
    "    F=0.0\n",
    "    t_impulse = 1/f_max\n",
    "    # Impulse should happen 'intantanously', or, faster than the largest frequency\n",
    "    tstart = 0\n",
    "    if t>tstart and t<tstart+1/f_max:\n",
    "        F=f_max\n",
    "    \n",
    "    for i in range(modeNum):\n",
    "        dp.append(-k_modalArray[i]*q[i] -R_modalArray[i]*p[i]/m_modalArray[i] + Y(i+1,L/5)*F)\n",
    "        dq.append(p[i]/m_modalArray[i])\n",
    "        \n",
    "    dx = dp + dq\n",
    "    return dx\n",
    "\n",
    "sol = integrate.solve_ivp(eom,tspan,x0,t_eval = t,max_step = 1/f_max)"
   ]
  },
  {
   "cell_type": "code",
   "execution_count": null,
   "id": "8f10a291",
   "metadata": {},
   "outputs": [],
   "source": []
  }
 ],
 "metadata": {
  "kernelspec": {
   "display_name": "Python 3 (ipykernel)",
   "language": "python",
   "name": "python3"
  },
  "language_info": {
   "codemirror_mode": {
    "name": "ipython",
    "version": 3
   },
   "file_extension": ".py",
   "mimetype": "text/x-python",
   "name": "python",
   "nbconvert_exporter": "python",
   "pygments_lexer": "ipython3",
   "version": "3.9.7"
  }
 },
 "nbformat": 4,
 "nbformat_minor": 5
}
